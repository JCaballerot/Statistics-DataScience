{
  "nbformat": 4,
  "nbformat_minor": 0,
  "metadata": {
    "colab": {
      "provenance": [],
      "authorship_tag": "ABX9TyPu/2EZYlzWHJnGoB2LCjfo",
      "include_colab_link": true
    },
    "kernelspec": {
      "name": "python3",
      "display_name": "Python 3"
    },
    "language_info": {
      "name": "python"
    }
  },
  "cells": [
    {
      "cell_type": "markdown",
      "metadata": {
        "id": "view-in-github",
        "colab_type": "text"
      },
      "source": [
        "<a href=\"https://colab.research.google.com/github/JCaballerot/Statistics-DataScience/blob/main/03_Pruebas_de_Hip%C3%B3tesis_ipynb.ipynb\" target=\"_parent\"><img src=\"https://colab.research.google.com/assets/colab-badge.svg\" alt=\"Open In Colab\"/></a>"
      ]
    },
    {
      "cell_type": "markdown",
      "source": [
        "\n",
        "<img src=\"https://storage.googleapis.com/kaggle-datasets-images/1660669/2724653/194571a4f49254b35ba1c8fd6b6d6e07/dataset-cover.jpg?t=2021-10-20-14-39-34\" alt=\"HTML5 Icon\" style=\"width: 600px; height: 450px;\">\n",
        "<div style=\"text-align: center\"></div>"
      ],
      "metadata": {
        "id": "MtF14Pd3Ai79"
      }
    },
    {
      "cell_type": "markdown",
      "source": [
        "# **Laboratorio de Análisis de Pruebas A/B y Pruebas de Hipótesis**\n"
      ],
      "metadata": {
        "id": "4AZ9y62NYzhA"
      }
    },
    {
      "cell_type": "markdown",
      "source": [
        "## **Índice**\n",
        "\n",
        "1. [Introducción](#1)\n",
        "2. [Descripción del Conjunto de Datos](#2)\n",
        "3. [Análisis Exploratorio de Datos](#3)\n",
        "4. [Pruebas de Hipótesis y Aplicación](#4)\n",
        "   - 4.1. Prueba de Hipótesis para una Muestra\n",
        "   - 4.2. Prueba de Hipótesis para Dos Muestras Independientes\n",
        "   - 4.3. Prueba de Hipótesis para Proporciones\n",
        "5. [Conclusiones](#5)\n",
        "6. [Desafío: Ejercicios de Práctica](#6)\n",
        "7. [Referencias](#7)\n",
        "\n",
        "---"
      ],
      "metadata": {
        "id": "uo68F4JgY3If"
      }
    },
    {
      "cell_type": "markdown",
      "source": [
        "---\n"
      ],
      "metadata": {
        "id": "C5ZN_AjGZITk"
      }
    },
    {
      "cell_type": "markdown",
      "source": [
        "<a name=\"1\"></a>\n",
        "## **1. Introducción**\n",
        "\n",
        "El objetivo de este laboratorio es aplicar conceptos de pruebas de hipótesis en el contexto de una prueba A/B utilizando un conjunto de datos de marketing de Kaggle. En este análisis, buscamos entender si existe una diferencia significativa en la tasa de conversión entre dos grupos: aquellos expuestos a un anuncio de producto (`ad`) y aquellos que solo vieron un anuncio de servicio público (`psa`).\n"
      ],
      "metadata": {
        "id": "fSpHEoyuZN8z"
      }
    },
    {
      "cell_type": "markdown",
      "source": [
        "\n",
        "\n",
        "<a name=\"2\"></a>\n",
        "## **2. Descripción del Conjunto de Datos**\n",
        "\n",
        "El conjunto de datos proviene de [Kaggle: Marketing A/B Testing](https://www.kaggle.com/datasets/faviovaz/marketing-ab-testing). Contiene datos de una prueba A/B que evaluó la efectividad de una estrategia de marketing.\n",
        "\n",
        "**Variables principales:**\n",
        "\n",
        "- `index`: Índice de la fila.\n",
        "- `user id`: Identificador único de cada usuario.\n",
        "- `test group`: Grupo al que pertenece el usuario. (`ad` para los que vieron un anuncio de producto y `psa` para los que vieron solo un anuncio de servicio público).\n",
        "- `converted`: Indica si el usuario compró el producto (`True`) o no (`False`).\n",
        "- `total ads`: Cantidad de anuncios que vio cada persona.\n",
        "- `most ads day`: Día en que la persona vio la mayor cantidad de anuncios.\n",
        "- `most ads hour`: Hora del día en que la persona vio la mayor cantidad de anuncios.\n"
      ],
      "metadata": {
        "id": "bzEmvVuBZLxe"
      }
    },
    {
      "cell_type": "markdown",
      "source": [
        "<a name=\"3\"></a>\n",
        "## **3. Análisis Exploratorio de Datos**\n",
        "\n",
        "### **3.1. Importación de Librerías y Datos**\n"
      ],
      "metadata": {
        "id": "tJ7GIsXVZYnn"
      }
    },
    {
      "cell_type": "code",
      "execution_count": null,
      "metadata": {
        "id": "2B8mHM2vYu6i"
      },
      "outputs": [],
      "source": [
        "import pandas as pd\n",
        "import numpy as np\n",
        "import scipy.stats as stats\n",
        "import matplotlib.pyplot as plt\n",
        "import seaborn as sns"
      ]
    },
    {
      "cell_type": "code",
      "source": [
        "# Cargar el conjunto de datos\n",
        "df = pd.read_csv('marketing_AB_testing.csv')"
      ],
      "metadata": {
        "id": "Mkpe01K8Zag3"
      },
      "execution_count": null,
      "outputs": []
    },
    {
      "cell_type": "markdown",
      "source": [
        "### **3.2. Descripción de las Variables**\n"
      ],
      "metadata": {
        "id": "nKQJ5Uyyaw8K"
      }
    },
    {
      "cell_type": "markdown",
      "source": [
        "Primero, observamos las primeras filas del dataset para entender mejor la estructura de los datos:"
      ],
      "metadata": {
        "id": "d4DWA7N4Ze9z"
      }
    },
    {
      "cell_type": "code",
      "source": [
        "df.head()\n"
      ],
      "metadata": {
        "id": "V-KC7qXuZgvm"
      },
      "execution_count": null,
      "outputs": []
    },
    {
      "cell_type": "markdown",
      "source": [
        "## **3.3. Estadística Descriptivas**\n"
      ],
      "metadata": {
        "id": "E6019ypw7f5R"
      }
    },
    {
      "cell_type": "markdown",
      "source": [
        "Distribución de Usuarios por Grupo\n"
      ],
      "metadata": {
        "id": "deplCmA07mE5"
      }
    },
    {
      "cell_type": "code",
      "source": [
        "# Distribución de Usuarios por Grupo\n",
        "print(\"Distribución de Usuarios por Grupo:\")\n",
        "print(df['test group'].value_counts())\n"
      ],
      "metadata": {
        "id": "tGD-LS2M7rwe"
      },
      "execution_count": null,
      "outputs": []
    },
    {
      "cell_type": "markdown",
      "source": [
        "Tasa de Conversión por Grupo\n"
      ],
      "metadata": {
        "id": "xPMYHyG_7uV0"
      }
    },
    {
      "cell_type": "code",
      "source": [
        "# Tasa de Conversión por Grupo\n",
        "print(\"\\nTasa de Conversión por Grupo:\")\n",
        "conversion_rates = df.groupby('test group')['converted'].mean()\n",
        "print(conversion_rates)\n"
      ],
      "metadata": {
        "id": "Vr9h75wh7yWW"
      },
      "execution_count": null,
      "outputs": []
    },
    {
      "cell_type": "markdown",
      "source": [
        "Análisis de Anuncios Totales y Hora de Máxima Exposición\n"
      ],
      "metadata": {
        "id": "amsYTTUd9EVB"
      }
    },
    {
      "cell_type": "code",
      "source": [
        "# Análisis de Anuncios Totales y Hora de Máxima Exposición por Grupo\n",
        "print(\"\\nAnálisis de Anuncios Totales y Hora de Máxima Exposición por Grupo:\")\n",
        "ads_stats = df.groupby('test group')[['total ads', 'most ads hour']].mean()\n",
        "print(ads_stats)\n"
      ],
      "metadata": {
        "id": "a5Ipz6719F0G"
      },
      "execution_count": null,
      "outputs": []
    },
    {
      "cell_type": "markdown",
      "source": [
        "Este análisis nos permite observar las tasas de conversión en cada grupo y explorar las variables total ads y most ads hour para ver si existen diferencias iniciales en la interacción de los usuarios entre los dos grupos."
      ],
      "metadata": {
        "id": "fAudj9gY9J-n"
      }
    },
    {
      "cell_type": "markdown",
      "source": [
        "<a name=\"4\"></a>\n",
        "## **4. Pruebas de Hipótesis y Aplicación**\n",
        "\n",
        "A continuación, se describen y aplican las pruebas de hipótesis para evaluar diferencias en la tasa de conversión entre el grupo ad y el grupo psa.\n",
        "\n",
        "Aplicaremos pruebas de hipótesis para determinar si las diferencias observadas son estadísticamente significativas.\n"
      ],
      "metadata": {
        "id": "7lTR4wlB9MIW"
      }
    },
    {
      "cell_type": "markdown",
      "source": [
        "###**4.1. Prueba de Hipótesis para una Muestra**"
      ],
      "metadata": {
        "id": "X_UQz25f9tuZ"
      }
    },
    {
      "cell_type": "markdown",
      "source": [
        "**Pregunta:** ¿La tasa de conversión promedio en el grupo `psa` es igual al 5% esperado por campañas anteriores?\n",
        "\n",
        "**Hipótesis:**\n",
        "\n",
        "- **\\(H_0\\):** La tasa de conversión en el grupo `psa` es igual al 5% (\\( $\\mu$\n",
        " = 0.05 \\)).\n",
        "- **\\(H_a\\):** La tasa de conversión en el grupo `psa` es diferente al 5% (\\( $\\mu$\n",
        "$\\neq$0.05\\)).\n"
      ],
      "metadata": {
        "id": "QJKGyD969yb0"
      }
    },
    {
      "cell_type": "markdown",
      "source": [
        "**Aplicación de la Prueba t para una Muestra (Grupo psa)**\n"
      ],
      "metadata": {
        "id": "NDyYXlq4_isb"
      }
    },
    {
      "cell_type": "code",
      "source": [
        "# Filtrar el grupo `psa`\n",
        "psa_group = df[df['test group'] == 'psa']\n",
        "\n",
        "# Datos del grupo `psa`\n",
        "n_psa = len(psa_group)\n",
        "mean_psa = psa_group['converted'].mean()\n",
        "std_psa = psa_group['converted'].std(ddof=1)\n",
        "\n",
        "# Parámetros de la hipótesis\n",
        "mu_0 = 0.05  # Tasa de conversión esperada\n",
        "alpha = 0.05\n",
        "\n",
        "# Estadístico t\n",
        "t_stat = (mean_psa - mu_0) / (std_psa / np.sqrt(n_psa))\n",
        "\n",
        "# Grados de libertad y p-valor\n",
        "df_psa = n_psa - 1\n",
        "p_value = stats.t.sf(np.abs(t_stat), df=df_psa) * 2  # Prueba bilateral\n",
        "\n",
        "print(f\"\\nPrueba de Hipótesis para una Muestra (Grupo `psa`):\")\n",
        "print(f\"Estadístico t: {t_stat:.4f}\")\n",
        "print(f\"p-valor: {p_value:.4f}\")\n"
      ],
      "metadata": {
        "id": "fjQJ82Xr_i5Y"
      },
      "execution_count": null,
      "outputs": []
    },
    {
      "cell_type": "markdown",
      "source": [
        "Interpretación: Si el p-valor es menor que 0.05, rechazamos 𝐻0​\n",
        " , lo que indicaría una diferencia significativa entre la tasa de conversión del grupo psa y la tasa histórica del 5%."
      ],
      "metadata": {
        "id": "NnM330PF_pti"
      }
    },
    {
      "cell_type": "markdown",
      "source": [
        "### **4.2. Prueba de Hipótesis para Dos Muestras Independientes**\n"
      ],
      "metadata": {
        "id": "IkNNkvyV-jFI"
      }
    },
    {
      "cell_type": "markdown",
      "source": [
        "**Pregunta:** ¿Existe una diferencia significativa en la tasa de conversión entre los grupos `ad` y `psa`?\n",
        "\n",
        "**Hipótesis:**\n",
        "\n",
        "- **\\( H_0 \\):** Las tasas de conversión son iguales en ambos grupos $(\\mu_{\\text{ad}} = \\mu_{\\text{psa}}).$\n",
        "- **\\( H_a \\):** Las tasas de conversión son diferentes $(\\mu_{\\text{ad}} \\neq \\mu_{\\text{psa}}).$\n"
      ],
      "metadata": {
        "id": "J_DFMLg0-shk"
      }
    },
    {
      "cell_type": "markdown",
      "source": [
        "**Aplicación de la Prueba t para Dos Muestras Independientes**\n"
      ],
      "metadata": {
        "id": "7qMpGVB4_vCj"
      }
    },
    {
      "cell_type": "code",
      "source": [
        "# Filtrar el grupo `ad`\n",
        "ad_group = df[df['test group'] == 'ad']\n",
        "\n",
        "# Datos del grupo `ad`\n",
        "n_ad = len(ad_group)\n",
        "mean_ad = ad_group['converted'].mean()\n",
        "std_ad = ad_group['converted'].std(ddof=1)\n",
        "\n",
        "# Prueba t para muestras independientes (Welch's t-test si las varianzas no son iguales)\n",
        "t_stat_ind, p_value_ind = stats.ttest_ind(\n",
        "    psa_group['converted'],\n",
        "    ad_group['converted'],\n",
        "    equal_var=False  # Welch's t-test\n",
        ")\n",
        "\n",
        "print(f\"\\nPrueba de Hipótesis para Dos Muestras (Grupo `ad` vs Grupo `psa`):\")\n",
        "print(f\"Estadístico t: {t_stat_ind:.4f}\")\n",
        "print(f\"p-valor: {p_value_ind:.4f}\")\n"
      ],
      "metadata": {
        "id": "CMx8gNshABYR"
      },
      "execution_count": null,
      "outputs": []
    },
    {
      "cell_type": "markdown",
      "source": [
        "Interpretación: Si el p-valor es menor que 0.05, rechazamos 𝐻0, lo que sugiere una diferencia significativa en la tasa de conversión entre los dos grupos."
      ],
      "metadata": {
        "id": "auG4G3nkADSo"
      }
    },
    {
      "cell_type": "markdown",
      "source": [
        "### **4.3. Prueba de Hipótesis para Proporciones**\n"
      ],
      "metadata": {
        "id": "4Ve3WHSU_GhX"
      }
    },
    {
      "cell_type": "markdown",
      "source": [
        "**Pregunta:** ¿Existe una diferencia significativa en la proporción de usuarios que convirtieron entre el grupo ad y el grupo psa?\n",
        "\n",
        "\n",
        "**Hipótesis:**\n",
        "\n",
        "- **\\( H_0 \\):** Las proporciones de conversión son iguales $(p_{\\text{ad}} = p_{\\text{psa}}).$\n",
        "- **\\( H_a \\):** Las proporciones de conversión son diferentes $(p_{\\text{ad}} \\neq p_{\\text{psa}}).$\n"
      ],
      "metadata": {
        "id": "lTLShoG5_JmF"
      }
    },
    {
      "cell_type": "markdown",
      "source": [
        "**Aplicación de la Prueba Z para Proporciones**\n"
      ],
      "metadata": {
        "id": "yClwnLEoAF2s"
      }
    },
    {
      "cell_type": "code",
      "source": [
        "# Contadores de conversiones\n",
        "success_psa = psa_group['converted'].sum()\n",
        "success_ad = ad_group['converted'].sum()\n",
        "\n",
        "# Tamaños de las muestras\n",
        "p_psa = success_psa / n_psa\n",
        "p_ad = success_ad / n_ad\n",
        "p_pool = (success_psa + success_ad) / (n_psa + n_ad)\n",
        "\n",
        "# Estadístico Z para proporciones\n",
        "Z_stat = (p_psa - p_ad) / np.sqrt(p_pool * (1 - p_pool) * (1/n_psa + 1/n_ad))\n",
        "p_value_prop = stats.norm.sf(np.abs(Z_stat)) * 2  # Prueba bilateral\n",
        "\n",
        "print(f\"\\nPrueba de Hipótesis para Proporciones (Conversión Grupo `ad` vs Grupo `psa`):\")\n",
        "print(f\"Estadístico Z: {Z_stat:.4f}\")\n",
        "print(f\"p-valor: {p\n"
      ],
      "metadata": {
        "id": "Du0BIso3_xra"
      },
      "execution_count": null,
      "outputs": []
    },
    {
      "cell_type": "markdown",
      "source": [
        "Interpretación: Si el p-valor es menor que 0.05, rechazamos 𝐻0, indicando una diferencia significativa en las proporciones de conversión entre ambos grupos."
      ],
      "metadata": {
        "id": "-BD8otg2_0eA"
      }
    },
    {
      "cell_type": "markdown",
      "source": [
        "---\n",
        "\n",
        "<a name=\"5\"></a>\n",
        "## **5. Conclusiones**\n",
        "\n",
        "A partir de los resultados de las pruebas de hipótesis, determinaremos si las diferencias observadas en las tasas de conversión son estadísticamente significativas y si la exposición al anuncio de producto (`ad`) tiene un impacto en comparación con el anuncio de servicio público (`psa`).\n",
        "\n",
        "---"
      ],
      "metadata": {
        "id": "-tbobyP9_NIq"
      }
    },
    {
      "cell_type": "markdown",
      "source": [
        "<a name=\"6\"></a>\n",
        "## **6. Desafío: Ejercicios de Práctica**\n",
        "\n",
        "Para afianzar lo aprendido, se proponen los siguientes ejercicios:\n",
        "\n",
        "1. **Prueba de Hipótesis para una Muestra:**\n",
        "   - Utiliza el grupo `ad` para verificar si su tasa de conversión es mayor al 7%.\n",
        "\n",
        "2. **Prueba de Hipótesis para Dos Muestras (Total de Anuncios Vistos):**\n",
        "   - Compara el número promedio de anuncios vistos entre los grupos `ad` y `psa`. ¿Es la diferencia significativa?\n",
        "\n",
        "3. **Prueba de Hipótesis para Proporciones (Conversión en Horas Pico):**\n",
        "   - Analiza si la proporción de conversiones durante la hora de mayor exposición es diferente entre los grupos.\n",
        "\n",
        "4. **Visualización de Datos:**\n",
        "   - Crea gráficos que representen las tasas de conversión y otras variables clave para visualizar las diferencias.\n",
        "\n",
        "---"
      ],
      "metadata": {
        "id": "CeG3Qxpz_RTs"
      }
    },
    {
      "cell_type": "markdown",
      "source": [
        "\n",
        "<a name=\"7\"></a>\n",
        "## **7. Referencias**\n",
        "\n",
        "- Montgomery, D. C., & Runger, G. C. (2014). **Applied Statistics and Probability for Engineers**. Wiley.\n",
        "- Rice, J. A. (2006). **Mathematical Statistics and Data Analysis**. Cengage Learning.\n",
        "- Kaggle Dataset: [Marketing A/B Testing](https://www.kaggle.com/datasets/faviovaz/marketing-ab-testing)\n",
        "\n",
        "---"
      ],
      "metadata": {
        "id": "eLgFLR7G_TMO"
      }
    }
  ]
}